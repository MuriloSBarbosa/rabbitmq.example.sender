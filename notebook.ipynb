{
 "cells": [
  {
   "cell_type": "markdown",
   "metadata": {},
   "source": [
    "# 📚 RabbitMQ Book Publisher with Faker\n",
    "This notebook:\n",
    "- Installs dependencies\n",
    "- Creates random book data using Faker\n",
    "- Connects to RabbitMQ\n",
    "- Declares an exchange and queue\n",
    "- Publishes 1000 fake books"
   ]
  },
  {
   "cell_type": "markdown",
   "metadata": {},
   "source": [
    "## 📦 Install Dependencies"
   ]
  },
  {
   "cell_type": "code",
   "execution_count": null,
   "metadata": {},
   "outputs": [],
   "source": [
    "%pip install pika --upgrade\n",
    "%pip install Faker --upgrade"
   ]
  },
  {
   "cell_type": "markdown",
   "metadata": {},
   "source": [
    "## 🐍 Imports"
   ]
  },
  {
   "cell_type": "code",
   "execution_count": 3,
   "metadata": {},
   "outputs": [],
   "source": [
    "import pika\n",
    "from faker import Faker\n",
    "import json"
   ]
  },
  {
   "cell_type": "markdown",
   "metadata": {},
   "source": [
    "## 📖 Function: Generate a Random Book"
   ]
  },
  {
   "cell_type": "code",
   "execution_count": null,
   "metadata": {},
   "outputs": [],
   "source": [
    "def new_random_book():\n",
    "    \"\"\"Generates a random book in JSON format using Faker.\"\"\"\n",
    "    fake = Faker()\n",
    "    book = {\n",
    "        \"title\": fake.sentence(),\n",
    "        \"genre\": fake.word(),\n",
    "        \"director\": fake.name(),\n",
    "        \"releaseDate\": fake.date(),\n",
    "        \"rating\": fake.random_number(digits=1),\n",
    "        \"description\": fake.text(),\n",
    "    }\n",
    "    return json.dumps(book)"
   ]
  },
  {
   "cell_type": "code",
   "execution_count": null,
   "metadata": {},
   "outputs": [],
   "source": [
    "def new_error_message():\n",
    "    \"\"\"Generates a random error message in JSON format.\"\"\"\n",
    "    fake = Faker()\n",
    "    error_message = {\n",
    "        \"error\": fake.sentence(),\n",
    "        \"timestamp\": fake.date_time(),\n",
    "        \"severity\": fake.word(),\n",
    "        \"description\": fake.text(),\n",
    "    }\n",
    "    return json.dumps(error_message)"
   ]
  },
  {
   "cell_type": "markdown",
   "metadata": {},
   "source": [
    "Preview a random book"
   ]
  },
  {
   "cell_type": "code",
   "execution_count": null,
   "metadata": {},
   "outputs": [],
   "source": [
    "print(new_random_book())"
   ]
  },
  {
   "cell_type": "markdown",
   "metadata": {},
   "source": [
    "## 🔌 Connect to RabbitMQ"
   ]
  },
  {
   "cell_type": "code",
   "execution_count": 4,
   "metadata": {},
   "outputs": [],
   "source": [
    "def connect_to_rabbitmq():\n",
    "    \"\"\"Connects to RabbitMQ server and creates a channel.\"\"\"\n",
    "    # Create a credentials object\n",
    "    credentials = pika.PlainCredentials('admin', 'admin')\n",
    "\n",
    "    connection = pika.BlockingConnection(\n",
    "    pika.ConnectionParameters('localhost', credentials=credentials)\n",
    "    )\n",
    "    return connection.channel()\n",
    "\n",
    "channel = connect_to_rabbitmq()\n"
   ]
  },
  {
   "cell_type": "markdown",
   "metadata": {},
   "source": [
    "## 📬 Declare Exchange & Queue"
   ]
  },
  {
   "cell_type": "markdown",
   "metadata": {},
   "source": [
    "To declare exchanges and queues, use \n",
    "`channel.exchange_declare` and `channel.queue_declare`."
   ]
  },
  {
   "cell_type": "markdown",
   "metadata": {},
   "source": [
    "## 🚀 Publish Fake Books"
   ]
  },
  {
   "cell_type": "code",
   "execution_count": null,
   "metadata": {},
   "outputs": [],
   "source": [
    "fake = Faker()\n",
    "exchange = 'books-loader-exchange'\n"
   ]
  },
  {
   "cell_type": "code",
   "execution_count": null,
   "metadata": {},
   "outputs": [],
   "source": [
    "if channel.is_closed:\n",
    "    channel = connect_to_rabbitmq()\n",
    "\n",
    "for i in range(1):\n",
    "    message = new_random_book()\n",
    "    channel.basic_publish(\n",
    "        exchange=exchange,\n",
    "        routing_key='',\n",
    "        body=message,\n",
    "    )"
   ]
  },
  {
   "cell_type": "markdown",
   "metadata": {},
   "source": [
    "✅ **Done!** Check the RabbitMQ management UI to confirm messages landed in the queue."
   ]
  }
 ],
 "metadata": {
  "kernelspec": {
   "display_name": ".venv",
   "language": "python",
   "name": "python3"
  },
  "language_info": {
   "codemirror_mode": {
    "name": "ipython",
    "version": 3
   },
   "file_extension": ".py",
   "mimetype": "text/x-python",
   "name": "python",
   "nbconvert_exporter": "python",
   "pygments_lexer": "ipython3",
   "version": "3.12.3"
  }
 },
 "nbformat": 4,
 "nbformat_minor": 2
}
